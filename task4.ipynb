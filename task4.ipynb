{
 "cells": [
  {
   "cell_type": "code",
   "execution_count": 17,
   "metadata": {},
   "outputs": [
    {
     "name": "stdout",
     "output_type": "stream",
     "text": [
      "Thor is not leader\n"
     ]
    }
   ],
   "source": [
    "class Avengers:\n",
    "    def __init__(self,name,age,gender,super_power,weapon,is_leader=False):\n",
    "        self.name = name\n",
    "        self.age = age\n",
    "        self.gender = gender\n",
    "        self.super_power = super_power\n",
    "        self.weapon = weapon\n",
    "        self.is_leader = is_leader\n",
    "        pass\n",
    "    \n",
    "    def get_name(self):\n",
    "         return self.name\n",
    "    \n",
    "    def get_age(self):\n",
    "         return self.age\n",
    "    \n",
    "    def get_gender(self):\n",
    "         return self.gender\n",
    "    \n",
    "    def get_super_power(self):\n",
    "         return self.super_power\n",
    "    \n",
    "    def get_weapon(self):\n",
    "         return self.weapon\n",
    "    \n",
    "    def get_is_leader(self):\n",
    "         if self.is_leader ==True:\n",
    "          reply = f\"{self.name} is leader\"\n",
    "         else:\n",
    "          reply = f\"{self.name} is not a leader\"\n",
    "         return reply\n",
    "    \n",
    "\n",
    "\n",
    "def get_info(hero):\n",
    "     info = input(\"what will you like to enquire about(name,age,weapon,gender,superpower,leader)\")\n",
    "   \n",
    "     if info == \"name\":\n",
    "         output = hero.get_name()\n",
    "     if info == \"age\":\n",
    "         output = hero.get_age()\n",
    "     elif info == \"weapon\":\n",
    "         output = hero.get_weapon()\n",
    "     elif info == \"gender\":\n",
    "         output = hero.get_gender()\n",
    "     elif info == \"superpower\":\n",
    "         output = hero.get_super_power()\n",
    "\n",
    "     elif info == \"leader\":\n",
    "         output = hero.get_is_leader()\n",
    "     \n",
    "     return output\n",
    "\n",
    "def check_leadership():\n",
    "     pass\n",
    "        \n",
    "    \n",
    "Super_hero1= Avengers(\"Captain America\",27,\"male\",\"Super strength\",\"Shield\")\n",
    "Super_hero2 = Avengers(\"Iron Man\",38,\"male\",\"Technology\",\"armor\",True)\n",
    "Super_hero3 = Avengers(\"Black Widow\",26,\"male\",\"super human\",\"batons\")\n",
    "Super_hero4 = Avengers(\"Hulk\",35,\"male\",\"Unlimited Strength\",\"None\")\n",
    "Super_hero5 = Avengers(\"Thor\",1047,\"male\",\"super energy\",\"Mjolnir\")\n",
    "Super_hero6 = Avengers(\"Hawkeye\",41,\"male\",\"fighting skills\",\"Bow and Arrows\")\n",
    "\n",
    "\n",
    "superheros = {\"Captain America\":Super_hero1,\"Iron Man\":Super_hero2,\"Black Widow\":Super_hero3,\"Hulk\":Super_hero4,\"Thor\":Super_hero5,\"Hawkeye\":Super_hero6}\n",
    "\n",
    "more_info = input(\"Will you like information on a super hero?(y/n)\")\n",
    "\n",
    "if more_info == \"y\":\n",
    "    hero_name = input(\"enter name of hero you'll like to enquire about\").title()\n",
    "    hero_object = superheros[hero_name]\n",
    "    information = get_info(hero_object)\n",
    "    print(information)\n",
    "else:\n",
    "     exit"
   ]
  }
 ],
 "metadata": {
  "kernelspec": {
   "display_name": "Python 3",
   "language": "python",
   "name": "python3"
  },
  "language_info": {
   "codemirror_mode": {
    "name": "ipython",
    "version": 3
   },
   "file_extension": ".py",
   "mimetype": "text/x-python",
   "name": "python",
   "nbconvert_exporter": "python",
   "pygments_lexer": "ipython3",
   "version": "3.11.9"
  }
 },
 "nbformat": 4,
 "nbformat_minor": 2
}
