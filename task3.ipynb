{
 "cells": [
  {
   "cell_type": "code",
   "execution_count": 4,
   "metadata": {},
   "outputs": [
    {
     "ename": "ValueError",
     "evalue": "could not convert string to float: ''",
     "output_type": "error",
     "traceback": [
      "\u001b[1;31m---------------------------------------------------------------------------\u001b[0m",
      "\u001b[1;31mValueError\u001b[0m                                Traceback (most recent call last)",
      "Cell \u001b[1;32mIn[4], line 5\u001b[0m\n\u001b[0;32m      3\u001b[0m     Bmi \u001b[38;5;241m=\u001b[39m weight\u001b[38;5;241m/\u001b[39m(height\u001b[38;5;241m*\u001b[39m\u001b[38;5;241m*\u001b[39m\u001b[38;5;241m2\u001b[39m)\n\u001b[0;32m      4\u001b[0m     \u001b[38;5;28;01mreturn\u001b[39;00m Bmi\n\u001b[1;32m----> 5\u001b[0m user_height \u001b[38;5;241m=\u001b[39m \u001b[38;5;28;43mfloat\u001b[39;49m\u001b[43m(\u001b[49m\u001b[38;5;28;43minput\u001b[39;49m\u001b[43m(\u001b[49m\u001b[38;5;124;43m\"\u001b[39;49m\u001b[38;5;124;43mEnter your height in meters:\u001b[39;49m\u001b[38;5;124;43m\"\u001b[39;49m\u001b[43m)\u001b[49m\u001b[43m)\u001b[49m\n\u001b[0;32m      6\u001b[0m user_weight \u001b[38;5;241m=\u001b[39m \u001b[38;5;28mfloat\u001b[39m(\u001b[38;5;28minput\u001b[39m(\u001b[38;5;124m\"\u001b[39m\u001b[38;5;124mEnter your weight in Kilograms\u001b[39m\u001b[38;5;124m\"\u001b[39m))\n\u001b[0;32m      7\u001b[0m Bmi_input \u001b[38;5;241m=\u001b[39m Bmi_Calc(user_height, user_weight)\n",
      "\u001b[1;31mValueError\u001b[0m: could not convert string to float: ''"
     ]
    }
   ],
   "source": [
    "# 1\n",
    "def Bmi_Calc(height, weight):\n",
    "    Bmi = weight/(height**2)\n",
    "    return Bmi\n",
    "user_height = float(input(\"Enter your height in meters:\"))\n",
    "user_weight = float(input(\"Enter your weight in Kilograms\"))\n",
    "Bmi_input = Bmi_Calc(user_height, user_weight)\n",
    "\n",
    "def Bmi_output(Bmi_value):\n",
    "    if Bmi_value >=30:\n",
    "        print(\"Obesity\")\n",
    "    elif Bmi_value <30 and Bmi_value>=25:\n",
    "        print(\"overweight\")\n",
    "    elif Bmi_value >=18.5 and Bmi_value<25:\n",
    "        print(\"Normal\")\n",
    "    if Bmi_value <18.5:\n",
    "        print(\"Underweight\")\n",
    "\n",
    "Bmi_output(Bmi_input)\n"
   ]
  },
  {
   "cell_type": "code",
   "execution_count": 10,
   "id": "598d02d0",
   "metadata": {},
   "outputs": [
    {
     "name": "stdout",
     "output_type": "stream",
     "text": [
      "Sydney is in Australia\n"
     ]
    }
   ],
   "source": [
    "Australia = [\"Sydney\", \"Melbourne\", \"Brisbane\", \"Perth\"]\n",
    "UAE = [\"Dubai\", \"Abu Dhabi\", \"Sharjah\", \"Ajman\"]\n",
    "India = [\"Mumbai\", \"Bangalore\", \"Chennai\", \"Delhi\"]\n",
    "countries = {\"Australia\":Australia, \"UAE\":UAE, \"India\":India}\n",
    "city_name = input(\"Enter name of City:\")\n",
    "for countries, cities in countries.items():\n",
    "    if city_name in cities:\n",
    "        print(f\"{city_name} is in {countries}\")"
   ]
  },
  {
   "cell_type": "code",
   "execution_count": 14,
   "id": "fdd0780f",
   "metadata": {},
   "outputs": [
    {
     "name": "stdout",
     "output_type": "stream",
     "text": [
      "Both cities are in UAE\n"
     ]
    }
   ],
   "source": [
    "# 3\n",
    "Australia = [\"Sydney\", \"Melbourne\", \"Brisbane\", \"Perth\"]\n",
    "UAE = [\"Dubai\", \"Abu Dhabi\", \"Sharjah\", \"Ajman\"]\n",
    "India = [\"Mumbai\", \"Bangalore\", \"Chennai\", \"Delhi\"]\n",
    "countries = {\"Australia\":Australia, \"UAE\":UAE, \"India\":India}\n",
    "city_name1 = input(\"Enter the first city:\")\n",
    "city_name2 = input(\"Enter the second city:\")\n",
    "\n",
    "for countries, cities in countries.items():\n",
    "    if city_name1 in cities and city_name2 in cities:\n",
    "        print(f\"Both cities are in {countries}\")\n",
    "        break\n",
    "else:\n",
    "    print(\"They don't belong to the same country\")\n",
    "\n",
    "\n"
   ]
  }
 ],
 "metadata": {
  "kernelspec": {
   "display_name": "Python 3",
   "language": "python",
   "name": "python3"
  },
  "language_info": {
   "codemirror_mode": {
    "name": "ipython",
    "version": 3
   },
   "file_extension": ".py",
   "mimetype": "text/x-python",
   "name": "python",
   "nbconvert_exporter": "python",
   "pygments_lexer": "ipython3",
   "version": "3.11.9"
  }
 },
 "nbformat": 4,
 "nbformat_minor": 5
}
