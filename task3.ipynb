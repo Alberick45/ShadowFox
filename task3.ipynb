{
 "cells": [
  {
   "cell_type": "code",
   "execution_count": 1,
   "metadata": {},
   "outputs": [
    {
     "name": "stdout",
     "output_type": "stream",
     "text": [
      "Underweight\n"
     ]
    }
   ],
   "source": [
    "# 1\n",
    "def Bmi_Calc(height, weight):\n",
    "    Bmi = weight/(height**2)\n",
    "    return Bmi\n",
    "user_height = float(input(\"Enter your height in meters:\"))\n",
    "user_weight = float(input(\"Enter your weight in Kilograms\"))\n",
    "Bmi_input = Bmi_Calc(user_height, user_weight)\n",
    "\n",
    "def Bmi_output(Bmi_value):\n",
    "    if Bmi_value >=30:\n",
    "        print(\"Obesity\")\n",
    "    elif Bmi_value <30 and Bmi_value>=25:\n",
    "        print(\"overweight\")\n",
    "    elif Bmi_value >=18.5 and Bmi_value<25:\n",
    "        print(\"Normal\")\n",
    "    if Bmi_value <18.5:\n",
    "        print(\"Underweight\")\n",
    "\n",
    "Bmi_output(Bmi_input)\n"
   ]
  },
  {
   "cell_type": "code",
   "execution_count": 10,
   "id": "598d02d0",
   "metadata": {},
   "outputs": [
    {
     "name": "stdout",
     "output_type": "stream",
     "text": [
      "Sydney is in Australia\n"
     ]
    }
   ],
   "source": [
    "Australia = [\"Sydney\", \"Melbourne\", \"Brisbane\", \"Perth\"]\n",
    "UAE = [\"Dubai\", \"Abu Dhabi\", \"Sharjah\", \"Ajman\"]\n",
    "India = [\"Mumbai\", \"Bangalore\", \"Chennai\", \"Delhi\"]\n",
    "countries = {\"Australia\":Australia, \"UAE\":UAE, \"India\":India}\n",
    "city_name = input(\"Enter name of City:\")\n",
    "for countries, cities in countries.items():\n",
    "    if city_name in cities:\n",
    "        print(f\"{city_name} is in {countries}\")"
   ]
  },
  {
   "cell_type": "code",
   "execution_count": 14,
   "id": "fdd0780f",
   "metadata": {},
   "outputs": [
    {
     "name": "stdout",
     "output_type": "stream",
     "text": [
      "Both cities are in UAE\n"
     ]
    }
   ],
   "source": [
    "# 3\n",
    "Australia = [\"Sydney\", \"Melbourne\", \"Brisbane\", \"Perth\"]\n",
    "UAE = [\"Dubai\", \"Abu Dhabi\", \"Sharjah\", \"Ajman\"]\n",
    "India = [\"Mumbai\", \"Bangalore\", \"Chennai\", \"Delhi\"]\n",
    "countries = {\"Australia\":Australia, \"UAE\":UAE, \"India\":India}\n",
    "city_name1 = input(\"Enter the first city:\")\n",
    "city_name2 = input(\"Enter the second city:\")\n",
    "\n",
    "for countries, cities in countries.items():\n",
    "    if city_name1 in cities and city_name2 in cities:\n",
    "        print(f\"Both cities are in {countries}\")\n",
    "        break\n",
    "else:\n",
    "    print(\"They don't belong to the same country\")\n",
    "\n",
    "\n"
   ]
  }
 ],
 "metadata": {
  "kernelspec": {
   "display_name": "Python 3",
   "language": "python",
   "name": "python3"
  },
  "language_info": {
   "codemirror_mode": {
    "name": "ipython",
    "version": 3
   },
   "file_extension": ".py",
   "mimetype": "text/x-python",
   "name": "python",
   "nbconvert_exporter": "python",
   "pygments_lexer": "ipython3",
   "version": "3.12.4"
  }
 },
 "nbformat": 4,
 "nbformat_minor": 5
}
