{
 "cells": [
  {
   "cell_type": "code",
   "execution_count": 1,
   "metadata": {},
   "outputs": [
    {
     "name": "stdout",
     "output_type": "stream",
     "text": [
      "Â£54.86\n"
     ]
    }
   ],
   "source": [
    "from bs4 import BeautifulSoup\n",
    "import requests\n",
    "\n",
    "url = \"https://books.toscrape.com/catalogue/dune-dune-1_151/index.html\"\n",
    "\n",
    "result = requests.get(url)\n",
    "document = BeautifulSoup(result.text, \"html.parser\")\n",
    "\n",
    "# Find all text nodes containing the string \"Dune\"\n",
    "price = document.find_all(string=lambda text: \"£\" in text if text else False)\n",
    "parent = price[0].parent\n",
    "\n",
    "print(parent.string)"
   ]
  }
 ],
 "metadata": {
  "kernelspec": {
   "display_name": "Python 3",
   "language": "python",
   "name": "python3"
  },
  "language_info": {
   "codemirror_mode": {
    "name": "ipython",
    "version": 3
   },
   "file_extension": ".py",
   "mimetype": "text/x-python",
   "name": "python",
   "nbconvert_exporter": "python",
   "pygments_lexer": "ipython3",
   "version": "3.12.4"
  }
 },
 "nbformat": 4,
 "nbformat_minor": 2
}
